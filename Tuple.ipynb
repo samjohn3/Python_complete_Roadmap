{
 "cells": [
  {
   "cell_type": "code",
   "execution_count": 3,
   "id": "579eaae8-1593-4b9f-a711-decfd1117d5e",
   "metadata": {},
   "outputs": [
    {
     "name": "stdout",
     "output_type": "stream",
     "text": [
      "('sam', 21, True)\n",
      "<class 'tuple'>\n",
      "<class 'tuple'>\n"
     ]
    }
   ],
   "source": [
    "mytuple = tuple((\"sam\",21,True))\n",
    "anothertuple = (1,2,34,2,34,6,89)\n",
    "print(mytuple)\n",
    "print(type(mytuple))\n",
    "print(type(anothertuple))"
   ]
  },
  {
   "cell_type": "code",
   "execution_count": 5,
   "id": "8b02e90c-a6c9-4403-8d5f-9fd2aa08444d",
   "metadata": {},
   "outputs": [],
   "source": [
    "newlist = list(mytuple)\n",
    "newlist.remove(21)"
   ]
  },
  {
   "cell_type": "code",
   "execution_count": 6,
   "id": "2aa35901-623a-48c4-b43b-34cf903e3d58",
   "metadata": {},
   "outputs": [
    {
     "name": "stdout",
     "output_type": "stream",
     "text": [
      "['sam', True]\n"
     ]
    }
   ],
   "source": [
    "print(newlist)"
   ]
  },
  {
   "cell_type": "code",
   "execution_count": 8,
   "id": "fa28b758-1cca-441d-98b6-53a46e21a733",
   "metadata": {},
   "outputs": [],
   "source": [
    "newlist.insert(1,21)"
   ]
  },
  {
   "cell_type": "code",
   "execution_count": 9,
   "id": "73c583d2-3882-47ff-a7a0-9959a62c59f3",
   "metadata": {},
   "outputs": [
    {
     "name": "stdout",
     "output_type": "stream",
     "text": [
      "['sam', 21, True]\n"
     ]
    }
   ],
   "source": [
    "print(newlist)"
   ]
  },
  {
   "cell_type": "code",
   "execution_count": 10,
   "id": "67355697-7ffa-416d-9ca8-d412725b268a",
   "metadata": {},
   "outputs": [],
   "source": [
    "newlist=tuple(newlist)"
   ]
  },
  {
   "cell_type": "code",
   "execution_count": 11,
   "id": "983d96c5-c05b-4f36-98da-abd6000f91f0",
   "metadata": {},
   "outputs": [
    {
     "name": "stdout",
     "output_type": "stream",
     "text": [
      "('sam', 21, True)\n"
     ]
    }
   ],
   "source": [
    "print(newlist)"
   ]
  },
  {
   "cell_type": "code",
   "execution_count": null,
   "id": "fefe1706-406c-4940-b279-8cb164a58466",
   "metadata": {},
   "outputs": [],
   "source": []
  }
 ],
 "metadata": {
  "kernelspec": {
   "display_name": "Python 3 (ipykernel)",
   "language": "python",
   "name": "python3"
  },
  "language_info": {
   "codemirror_mode": {
    "name": "ipython",
    "version": 3
   },
   "file_extension": ".py",
   "mimetype": "text/x-python",
   "name": "python",
   "nbconvert_exporter": "python",
   "pygments_lexer": "ipython3",
   "version": "3.12.7"
  }
 },
 "nbformat": 4,
 "nbformat_minor": 5
}
