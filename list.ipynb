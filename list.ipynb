{
 "cells": [
  {
   "cell_type": "code",
   "execution_count": 1,
   "id": "ebea6a00-22ac-4950-884c-5e8f3178f874",
   "metadata": {},
   "outputs": [],
   "source": [
    "list= [\"sam\",\"sai\",\"vishnu\",\"irfan\"]"
   ]
  },
  {
   "cell_type": "code",
   "execution_count": 2,
   "id": "8ba0c90e-c977-40eb-ae43-5c791c51de58",
   "metadata": {},
   "outputs": [
    {
     "name": "stdout",
     "output_type": "stream",
     "text": [
      "['sam', 'sai', 'vishnu', 'irfan']\n"
     ]
    }
   ],
   "source": [
    "print(list)"
   ]
  },
  {
   "cell_type": "code",
   "execution_count": 3,
   "id": "230d7776-0f62-475f-b339-86d0adbab3ba",
   "metadata": {},
   "outputs": [],
   "source": [
    "list.append(\"ganesh\")"
   ]
  },
  {
   "cell_type": "code",
   "execution_count": 4,
   "id": "3663719b-853a-40c8-ae60-d69f7c6e2589",
   "metadata": {},
   "outputs": [
    {
     "name": "stdout",
     "output_type": "stream",
     "text": [
      "['sam', 'sai', 'vishnu', 'irfan', 'ganesh']\n"
     ]
    }
   ],
   "source": [
    "print(list)"
   ]
  },
  {
   "cell_type": "code",
   "execution_count": 7,
   "id": "83bef32f-f478-4178-9773-daffef8cfdef",
   "metadata": {},
   "outputs": [],
   "source": [
    "list.extend([\"car\",\"bike\"])"
   ]
  },
  {
   "cell_type": "code",
   "execution_count": 9,
   "id": "b383c589-a48e-461c-9e1c-a34f3d2380bc",
   "metadata": {},
   "outputs": [
    {
     "name": "stdout",
     "output_type": "stream",
     "text": [
      "['sam', 'sai', 'vishnu', 'irfan', 'ganesh', 'car', 'bike']\n"
     ]
    }
   ],
   "source": [
    "print(list)"
   ]
  },
  {
   "cell_type": "code",
   "execution_count": 10,
   "id": "d267d2b2-3c14-4b27-a9b5-5953b8dc3b91",
   "metadata": {},
   "outputs": [],
   "source": [
    "data =[\"da\",\"fsd\",\"support engineer\"]"
   ]
  },
  {
   "cell_type": "code",
   "execution_count": 15,
   "id": "dbe9f7e3-c7b7-4fb7-8d2b-37727d612c1d",
   "metadata": {},
   "outputs": [],
   "source": [
    "list.extend(data)"
   ]
  },
  {
   "cell_type": "code",
   "execution_count": 16,
   "id": "216a6182-7a9e-42d4-b6c4-8f0ced17a055",
   "metadata": {},
   "outputs": [
    {
     "name": "stdout",
     "output_type": "stream",
     "text": [
      "['sam', 'sai', 'vishnu', 'irfan', 'ganesh', 'car', 'bike', 'd', 'a', 't', 'a', 'da', 'fsd', 'support engineer', 'da', 'fsd', 'support engineer']\n"
     ]
    }
   ],
   "source": [
    "print(list)"
   ]
  },
  {
   "cell_type": "code",
   "execution_count": 17,
   "id": "667a8efe-dd47-4584-8f87-c7b6308e1ee5",
   "metadata": {},
   "outputs": [],
   "source": [
    "list=[\"chicken\",\"mutton\",\"fish\"]"
   ]
  },
  {
   "cell_type": "code",
   "execution_count": 18,
   "id": "9a7ec436-a6a4-4531-a5e0-d584b0f37ffd",
   "metadata": {},
   "outputs": [],
   "source": [
    "list.insert(0,\"mushroom\")"
   ]
  },
  {
   "cell_type": "code",
   "execution_count": 19,
   "id": "eda223d6-75cf-4fa1-8c87-5b5fcc8e8e64",
   "metadata": {},
   "outputs": [
    {
     "name": "stdout",
     "output_type": "stream",
     "text": [
      "['mushroom', 'chicken', 'mutton', 'fish']\n"
     ]
    }
   ],
   "source": [
    "print(list)"
   ]
  },
  {
   "cell_type": "code",
   "execution_count": 20,
   "id": "2bd17e81-e8d9-4173-a84a-36598d187735",
   "metadata": {},
   "outputs": [],
   "source": [
    " #slicing"
   ]
  },
  {
   "cell_type": "code",
   "execution_count": 21,
   "id": "98f5cb14-1cec-4350-a3ad-ac3d9c024a3e",
   "metadata": {},
   "outputs": [],
   "source": [
    "list[1:3] =[\"tomato\",\"onion\"]"
   ]
  },
  {
   "cell_type": "code",
   "execution_count": 22,
   "id": "aec6737a-c2b2-47f0-aa7e-ca2e8b32b35b",
   "metadata": {},
   "outputs": [
    {
     "name": "stdout",
     "output_type": "stream",
     "text": [
      "['mushroom', 'tomato', 'onion', 'fish']\n"
     ]
    }
   ],
   "source": [
    "print(list)"
   ]
  },
  {
   "cell_type": "code",
   "execution_count": 27,
   "id": "41892ea2-80c0-429f-a269-4c49a5fc55f3",
   "metadata": {},
   "outputs": [],
   "source": [
    "list[2:2] = [\"chicken\"]"
   ]
  },
  {
   "cell_type": "code",
   "execution_count": 28,
   "id": "abdf3fba-d7a3-438d-a2d1-c35191d3e826",
   "metadata": {},
   "outputs": [
    {
     "name": "stdout",
     "output_type": "stream",
     "text": [
      "['mushroom', 'tomato', 'chicken', ['chicken'], 'onion', 'fish']\n"
     ]
    }
   ],
   "source": [
    "print(list)"
   ]
  },
  {
   "cell_type": "code",
   "execution_count": 29,
   "id": "92db1e19-5c1e-4c1b-851b-7df573fc18d6",
   "metadata": {},
   "outputs": [],
   "source": [
    "list.remove(\"chicken\")"
   ]
  },
  {
   "cell_type": "code",
   "execution_count": 30,
   "id": "699507f1-c31b-4c31-9199-5ca014d374ee",
   "metadata": {},
   "outputs": [
    {
     "name": "stdout",
     "output_type": "stream",
     "text": [
      "['mushroom', 'tomato', ['chicken'], 'onion', 'fish']\n"
     ]
    }
   ],
   "source": [
    "print(list)"
   ]
  },
  {
   "cell_type": "code",
   "execution_count": 32,
   "id": "67cdc53c-668b-46ee-a2b5-deb905d65030",
   "metadata": {},
   "outputs": [],
   "source": [
    "list.remove([\"chicken\"])"
   ]
  },
  {
   "cell_type": "code",
   "execution_count": 33,
   "id": "afa4821c-2637-441e-927b-8fdb4908fd90",
   "metadata": {},
   "outputs": [
    {
     "name": "stdout",
     "output_type": "stream",
     "text": [
      "['mushroom', 'tomato', 'onion', 'fish']\n"
     ]
    }
   ],
   "source": [
    "print(list)"
   ]
  },
  {
   "cell_type": "code",
   "execution_count": 34,
   "id": "4edeabfa-4b42-4a46-abac-8d3428f51d76",
   "metadata": {},
   "outputs": [],
   "source": [
    "#pop"
   ]
  },
  {
   "cell_type": "code",
   "execution_count": 35,
   "id": "856f96fa-4af8-4f9d-bd67-1b1f3098fb16",
   "metadata": {},
   "outputs": [
    {
     "data": {
      "text/plain": [
       "'fish'"
      ]
     },
     "execution_count": 35,
     "metadata": {},
     "output_type": "execute_result"
    }
   ],
   "source": [
    "list.pop()"
   ]
  },
  {
   "cell_type": "code",
   "execution_count": 36,
   "id": "e1a81b8e-6111-4f9e-bd9b-55e1c04a41e7",
   "metadata": {},
   "outputs": [
    {
     "name": "stdout",
     "output_type": "stream",
     "text": [
      "['mushroom', 'tomato', 'onion']\n"
     ]
    }
   ],
   "source": [
    "print(list)"
   ]
  },
  {
   "cell_type": "code",
   "execution_count": 39,
   "id": "903ee813-2de0-4128-a060-0199bebc0965",
   "metadata": {},
   "outputs": [],
   "source": [
    "# what index you want del excatly delete\n",
    "del list[0]"
   ]
  },
  {
   "cell_type": "code",
   "execution_count": 40,
   "id": "647136b6-67eb-44ac-9f80-cd8701685f13",
   "metadata": {},
   "outputs": [
    {
     "name": "stdout",
     "output_type": "stream",
     "text": [
      "['onion']\n"
     ]
    }
   ],
   "source": [
    "print(list)"
   ]
  },
  {
   "cell_type": "code",
   "execution_count": 42,
   "id": "3890bd7f-876f-4b9c-8100-ce47b7827d7f",
   "metadata": {},
   "outputs": [],
   "source": [
    "#clear  --> totalyy clear list"
   ]
  },
  {
   "cell_type": "code",
   "execution_count": 43,
   "id": "f272aed3-dabd-4de7-9fa7-76749fe63665",
   "metadata": {},
   "outputs": [],
   "source": [
    "list.clear()"
   ]
  },
  {
   "cell_type": "code",
   "execution_count": 44,
   "id": "c608dcdf-10d8-4538-86a6-bed6a98c25ee",
   "metadata": {},
   "outputs": [
    {
     "name": "stdout",
     "output_type": "stream",
     "text": [
      "[]\n"
     ]
    }
   ],
   "source": [
    "print(list)"
   ]
  },
  {
   "cell_type": "code",
   "execution_count": 45,
   "id": "63d8b6e6-26b6-402b-93d1-5392c545888b",
   "metadata": {},
   "outputs": [],
   "source": [
    "list = [\"sai\",\"sam\",\"ganesh\",\"irfan\",\"vishnu\"]"
   ]
  },
  {
   "cell_type": "code",
   "execution_count": 46,
   "id": "5aefbe91-ade1-41b7-8a4f-00962e30487f",
   "metadata": {},
   "outputs": [],
   "source": [
    "list.sort()"
   ]
  },
  {
   "cell_type": "code",
   "execution_count": 47,
   "id": "a259dc5f-bd85-46da-bfc1-21cdc78483c7",
   "metadata": {},
   "outputs": [
    {
     "name": "stdout",
     "output_type": "stream",
     "text": [
      "['ganesh', 'irfan', 'sai', 'sam', 'vishnu']\n"
     ]
    }
   ],
   "source": [
    "print(list)"
   ]
  },
  {
   "cell_type": "code",
   "execution_count": 48,
   "id": "5aad935a-7fcf-4b09-9c97-f06b7120eb57",
   "metadata": {},
   "outputs": [],
   "source": [
    "list[1:1]=[\"bike\"]"
   ]
  },
  {
   "cell_type": "code",
   "execution_count": 49,
   "id": "f4e6370d-4767-401a-b281-92a03676e699",
   "metadata": {},
   "outputs": [
    {
     "name": "stdout",
     "output_type": "stream",
     "text": [
      "['ganesh', 'bike', 'irfan', 'sai', 'sam', 'vishnu']\n"
     ]
    }
   ],
   "source": [
    "print(list)"
   ]
  },
  {
   "cell_type": "code",
   "execution_count": 51,
   "id": "ba02740c-8fa5-4f5f-bc66-b0e452856ee2",
   "metadata": {},
   "outputs": [],
   "source": [
    "list[3:3]=[\"scooty\"]"
   ]
  },
  {
   "cell_type": "code",
   "execution_count": 52,
   "id": "02f0cc98-9096-46ab-a412-bfc9ada11186",
   "metadata": {},
   "outputs": [
    {
     "name": "stdout",
     "output_type": "stream",
     "text": [
      "['ganesh', 'bike', 'irfan', 'scooty', 'sai', 'sam', 'vishnu']\n"
     ]
    }
   ],
   "source": [
    "print(list)"
   ]
  },
  {
   "cell_type": "code",
   "execution_count": 54,
   "id": "64d51163-7d9f-41db-aa0e-b24a947fcdfc",
   "metadata": {},
   "outputs": [],
   "source": [
    "list[6:6] = [\"bike\"]"
   ]
  },
  {
   "cell_type": "code",
   "execution_count": 55,
   "id": "04c7c5c0-b071-45b4-8bb7-6ff435f98350",
   "metadata": {},
   "outputs": [
    {
     "name": "stdout",
     "output_type": "stream",
     "text": [
      "['ganesh', 'bike', 'irfan', 'scooty', 'sai', 'sam', 'bike', 'vishnu']\n"
     ]
    }
   ],
   "source": [
    "print(list)"
   ]
  },
  {
   "cell_type": "code",
   "execution_count": 56,
   "id": "8ef2a9e1-a1ed-4f4c-a02d-ae1a9e579cd8",
   "metadata": {},
   "outputs": [
    {
     "name": "stdout",
     "output_type": "stream",
     "text": [
      "['bike', 'bike', 'ganesh', 'irfan', 'sai', 'sam', 'scooty', 'vishnu']\n"
     ]
    }
   ],
   "source": [
    "list.sort()\n",
    "print(list)"
   ]
  },
  {
   "cell_type": "code",
   "execution_count": 57,
   "id": "ca4f934e-e056-4584-a931-6552370ba3c9",
   "metadata": {},
   "outputs": [
    {
     "name": "stdout",
     "output_type": "stream",
     "text": [
      "[9, 3, 7, 2, 5, 3, 2]\n"
     ]
    }
   ],
   "source": [
    "nums = [2,3,5,2,7,3,9]\n",
    "nums.reverse()\n",
    "print(nums)"
   ]
  },
  {
   "cell_type": "code",
   "execution_count": 58,
   "id": "c18181d6-a7cb-49b4-8326-e1c539f327fe",
   "metadata": {},
   "outputs": [],
   "source": [
    "nums.sort()"
   ]
  },
  {
   "cell_type": "code",
   "execution_count": 59,
   "id": "7fc610a4-14a2-46fc-8e9c-ffbb2a60ec94",
   "metadata": {},
   "outputs": [
    {
     "name": "stdout",
     "output_type": "stream",
     "text": [
      "[2, 2, 3, 3, 5, 7, 9]\n"
     ]
    }
   ],
   "source": [
    "print(nums)"
   ]
  },
  {
   "cell_type": "code",
   "execution_count": 61,
   "id": "fcc30451-9494-49cf-91f3-70d32df2259c",
   "metadata": {},
   "outputs": [],
   "source": [
    "nums.sort(reverse=True)"
   ]
  },
  {
   "cell_type": "code",
   "execution_count": 62,
   "id": "e57f9cfe-1ad2-403b-b54e-68851a6072bb",
   "metadata": {},
   "outputs": [
    {
     "name": "stdout",
     "output_type": "stream",
     "text": [
      "[9, 7, 5, 3, 3, 2, 2]\n"
     ]
    }
   ],
   "source": [
    "print(nums)"
   ]
  },
  {
   "cell_type": "code",
   "execution_count": 65,
   "id": "61d860c5-aa59-4091-8689-a5f6c8b71bb6",
   "metadata": {},
   "outputs": [
    {
     "name": "stdout",
     "output_type": "stream",
     "text": [
      "[48, 24, 5, 3, 1]\n"
     ]
    }
   ],
   "source": [
    "#short cut for ascending to descending\n",
    "nums = [1,24,48,3,5]\n",
    "print(sorted(nums,reverse=True))"
   ]
  },
  {
   "cell_type": "code",
   "execution_count": 68,
   "id": "e6e8cf6a-6970-4fef-bf19-4893bb02f731",
   "metadata": {},
   "outputs": [],
   "source": [
    "nums = [1,24,48,3,5]\n",
    "nums.sort()"
   ]
  },
  {
   "cell_type": "code",
   "execution_count": 69,
   "id": "e938300b-51e1-4248-8e6e-0be611560919",
   "metadata": {},
   "outputs": [
    {
     "name": "stdout",
     "output_type": "stream",
     "text": [
      "[1, 3, 5, 24, 48]\n"
     ]
    }
   ],
   "source": [
    "print(nums)"
   ]
  },
  {
   "cell_type": "code",
   "execution_count": 75,
   "id": "3cb82cfb-d6ba-47f4-872e-306270b8dc2d",
   "metadata": {},
   "outputs": [
    {
     "name": "stdout",
     "output_type": "stream",
     "text": [
      "[1, 3, 5, 24, 48]\n"
     ]
    }
   ],
   "source": [
    "print(sorted(nums,reverse=False))"
   ]
  },
  {
   "cell_type": "code",
   "execution_count": 76,
   "id": "704ff9db-de5d-41a9-94dd-ffa1eb6f2b2b",
   "metadata": {},
   "outputs": [
    {
     "name": "stdout",
     "output_type": "stream",
     "text": [
      "[48, 24, 5, 3, 1]\n"
     ]
    }
   ],
   "source": [
    "print(sorted(nums,reverse=True))"
   ]
  },
  {
   "cell_type": "code",
   "execution_count": 77,
   "id": "9f490d72-392e-440f-9e01-35a944efaa0a",
   "metadata": {},
   "outputs": [],
   "source": [
    "list=[23,4,3,5,2,56,74]"
   ]
  },
  {
   "cell_type": "code",
   "execution_count": 78,
   "id": "81411719-b8dc-4ffc-bad2-0d785b9f2af2",
   "metadata": {},
   "outputs": [
    {
     "name": "stdout",
     "output_type": "stream",
     "text": [
      "[2, 3, 4, 5, 23, 56, 74]\n"
     ]
    }
   ],
   "source": [
    "print(sorted(list,reverse=False))"
   ]
  },
  {
   "cell_type": "code",
   "execution_count": 80,
   "id": "26600594-e4d5-474c-b5ac-cff521f86fb3",
   "metadata": {},
   "outputs": [
    {
     "name": "stdout",
     "output_type": "stream",
     "text": [
      "[74, 56, 23, 5, 4, 3, 2]\n"
     ]
    }
   ],
   "source": [
    "print(sorted(list,reverse=True))"
   ]
  },
  {
   "cell_type": "code",
   "execution_count": 81,
   "id": "45f5eecd-51d7-447d-b967-9e1af4637c10",
   "metadata": {},
   "outputs": [
    {
     "name": "stdout",
     "output_type": "stream",
     "text": [
      "[74, 56, 23, 5, 4, 3, 2]\n"
     ]
    }
   ],
   "source": [
    "print(sorted(list,reverse=True))"
   ]
  },
  {
   "cell_type": "code",
   "execution_count": 82,
   "id": "4a61e477-a380-4638-ba10-3fc1577ac866",
   "metadata": {},
   "outputs": [
    {
     "name": "stdout",
     "output_type": "stream",
     "text": [
      "[2, 3, 4, 5, 23, 56, 74]\n"
     ]
    }
   ],
   "source": [
    "print(sorted(list,reverse=False))"
   ]
  },
  {
   "cell_type": "code",
   "execution_count": 83,
   "id": "963636e9-d7fb-4d46-b72f-e3145627c318",
   "metadata": {},
   "outputs": [
    {
     "name": "stdout",
     "output_type": "stream",
     "text": [
      "<class 'list'>\n"
     ]
    }
   ],
   "source": [
    "print(type(list))"
   ]
  },
  {
   "cell_type": "code",
   "execution_count": null,
   "id": "fc2a0eda-d7ba-429c-9a70-affc42b5fffa",
   "metadata": {},
   "outputs": [],
   "source": []
  }
 ],
 "metadata": {
  "kernelspec": {
   "display_name": "Python 3 (ipykernel)",
   "language": "python",
   "name": "python3"
  },
  "language_info": {
   "codemirror_mode": {
    "name": "ipython",
    "version": 3
   },
   "file_extension": ".py",
   "mimetype": "text/x-python",
   "name": "python",
   "nbconvert_exporter": "python",
   "pygments_lexer": "ipython3",
   "version": "3.12.7"
  }
 },
 "nbformat": 4,
 "nbformat_minor": 5
}
