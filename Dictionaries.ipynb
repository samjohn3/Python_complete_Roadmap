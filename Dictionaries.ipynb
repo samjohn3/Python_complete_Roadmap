{
 "cells": [
  {
   "cell_type": "code",
   "execution_count": 1,
   "id": "adcc6242-d24d-485c-b2a8-d26932b4f3c2",
   "metadata": {},
   "outputs": [],
   "source": [
    "#Dictionaries"
   ]
  },
  {
   "cell_type": "code",
   "execution_count": 8,
   "id": "8f122823-cc32-4373-b8db-27874e4f80b0",
   "metadata": {},
   "outputs": [],
   "source": [
    "car= {\n",
    "    \"Brand\":\"TATA\",\n",
    "    \"model\": \"punch\",\n",
    "    \"year\" : 2021,\n",
    "    \"insu\" : 2025\n",
    "}"
   ]
  },
  {
   "cell_type": "code",
   "execution_count": 9,
   "id": "b34a7e77-c337-4acb-9522-7d609fdbe616",
   "metadata": {},
   "outputs": [],
   "source": [
    "car2 = dict(Brand=\"TATA\",model=\"punch\")"
   ]
  },
  {
   "cell_type": "code",
   "execution_count": 10,
   "id": "91f336bd-44a0-4132-b0f7-7f7d5a1dd480",
   "metadata": {},
   "outputs": [
    {
     "name": "stdout",
     "output_type": "stream",
     "text": [
      "{'Brand': 'TATA', 'model': 'punch', 'year': 2021, 'insu': 2025}\n",
      "{'Brand': 'TATA', 'model': 'punch'}\n",
      "<class 'dict'>\n",
      "4\n"
     ]
    }
   ],
   "source": [
    "print(car)\n",
    "print(car2)\n",
    "print(type(car))\n",
    "print(len(car))"
   ]
  },
  {
   "cell_type": "code",
   "execution_count": 16,
   "id": "e3854ed8-2a1b-4538-a3c1-8ea2008f53d1",
   "metadata": {},
   "outputs": [
    {
     "name": "stdout",
     "output_type": "stream",
     "text": [
      "TATA\n"
     ]
    }
   ],
   "source": [
    "print(car[\"Brand\"])"
   ]
  },
  {
   "cell_type": "code",
   "execution_count": 17,
   "id": "78718f2f-399d-420f-95f3-3d6428898fcf",
   "metadata": {},
   "outputs": [
    {
     "name": "stdout",
     "output_type": "stream",
     "text": [
      "punch\n"
     ]
    }
   ],
   "source": [
    "print(car.get(\"model\"))"
   ]
  },
  {
   "cell_type": "code",
   "execution_count": 19,
   "id": "cf0471ed-a935-4c70-875e-5fe273b75bab",
   "metadata": {},
   "outputs": [
    {
     "name": "stdout",
     "output_type": "stream",
     "text": [
      "dict_keys(['Brand', 'model', 'year', 'insu'])\n"
     ]
    }
   ],
   "source": [
    "#list all keys\n",
    "print(car.keys())"
   ]
  },
  {
   "cell_type": "code",
   "execution_count": 20,
   "id": "5ebc3f90-cd0f-4929-bcf6-6b1c7a70e917",
   "metadata": {},
   "outputs": [
    {
     "name": "stdout",
     "output_type": "stream",
     "text": [
      "dict_values(['TATA', 'punch', 2021, 2025])\n"
     ]
    }
   ],
   "source": [
    "#list all values\n",
    "print(car.values())"
   ]
  },
  {
   "cell_type": "code",
   "execution_count": 21,
   "id": "96652e0d-7665-49a6-bffb-0f9f70cfca55",
   "metadata": {},
   "outputs": [
    {
     "name": "stdout",
     "output_type": "stream",
     "text": [
      "dict_items([('Brand', 'TATA'), ('model', 'punch'), ('year', 2021), ('insu', 2025)])\n"
     ]
    }
   ],
   "source": [
    "print(car.items())"
   ]
  },
  {
   "cell_type": "code",
   "execution_count": 22,
   "id": "9a2165bd-a59a-4a80-9c2b-cd8dc73babec",
   "metadata": {},
   "outputs": [
    {
     "name": "stdout",
     "output_type": "stream",
     "text": [
      "True\n"
     ]
    }
   ],
   "source": [
    "print(\"model\"in car)"
   ]
  },
  {
   "cell_type": "code",
   "execution_count": 23,
   "id": "7e6f093a-6e8c-41b4-b0aa-2aaba4985de5",
   "metadata": {},
   "outputs": [
    {
     "name": "stdout",
     "output_type": "stream",
     "text": [
      "False\n"
     ]
    }
   ],
   "source": [
    "print(\"price\"in car)"
   ]
  },
  {
   "cell_type": "code",
   "execution_count": 30,
   "id": "d30bdd67-2a9e-4d55-a633-7e05ca923920",
   "metadata": {},
   "outputs": [],
   "source": [
    "car[\"Brand\"]=\"ford\"\n",
    "car.update()"
   ]
  },
  {
   "cell_type": "code",
   "execution_count": 31,
   "id": "4ec72f35-709b-4598-b774-9a65918b9a2a",
   "metadata": {},
   "outputs": [
    {
     "ename": "SyntaxError",
     "evalue": "incomplete input (1533243479.py, line 1)",
     "output_type": "error",
     "traceback": [
      "\u001b[1;36m  Cell \u001b[1;32mIn[31], line 1\u001b[1;36m\u001b[0m\n\u001b[1;33m    print(car(items())\u001b[0m\n\u001b[1;37m                      ^\u001b[0m\n\u001b[1;31mSyntaxError\u001b[0m\u001b[1;31m:\u001b[0m incomplete input\n"
     ]
    }
   ],
   "source": [
    "print(car(items())"
   ]
  },
  {
   "cell_type": "code",
   "execution_count": 32,
   "id": "058da1cb-eb4c-4c2b-8167-4cc77fd64510",
   "metadata": {},
   "outputs": [
    {
     "name": "stdout",
     "output_type": "stream",
     "text": [
      "dict_items([('Brand', 'ford'), ('model', 'punch'), ('year', 2021), ('insu', 2025), ('brand', 'ford')])\n"
     ]
    }
   ],
   "source": [
    "print(car.items())"
   ]
  },
  {
   "cell_type": "code",
   "execution_count": 33,
   "id": "02bb5aa7-f8b5-4c7b-858d-29abed554958",
   "metadata": {},
   "outputs": [
    {
     "ename": "AttributeError",
     "evalue": "'dict' object has no attribute 'remove'",
     "output_type": "error",
     "traceback": [
      "\u001b[1;31m---------------------------------------------------------------------------\u001b[0m",
      "\u001b[1;31mAttributeError\u001b[0m                            Traceback (most recent call last)",
      "Cell \u001b[1;32mIn[33], line 1\u001b[0m\n\u001b[1;32m----> 1\u001b[0m car\u001b[38;5;241m.\u001b[39mremove(brand)\n",
      "\u001b[1;31mAttributeError\u001b[0m: 'dict' object has no attribute 'remove'"
     ]
    }
   ],
   "source": [
    "car.remove(brand)"
   ]
  },
  {
   "cell_type": "code",
   "execution_count": 35,
   "id": "c9fd5237-780a-425c-ae98-e2df8eb5bee1",
   "metadata": {},
   "outputs": [
    {
     "data": {
      "text/plain": [
       "'ford'"
      ]
     },
     "execution_count": 35,
     "metadata": {},
     "output_type": "execute_result"
    }
   ],
   "source": [
    "car.pop(\"brand\")"
   ]
  },
  {
   "cell_type": "code",
   "execution_count": 36,
   "id": "176ac43e-5081-4b68-91f9-88b405cc7f05",
   "metadata": {},
   "outputs": [
    {
     "name": "stdout",
     "output_type": "stream",
     "text": [
      "<built-in method items of dict object at 0x0000011B65E0CF00>\n"
     ]
    }
   ],
   "source": [
    "print(car.items)"
   ]
  },
  {
   "cell_type": "code",
   "execution_count": 38,
   "id": "5e553b88-795a-4dbe-8c4e-e8934807ec27",
   "metadata": {},
   "outputs": [
    {
     "name": "stdout",
     "output_type": "stream",
     "text": [
      "dict_items([('Brand', 'ford'), ('model', 'punch'), ('year', 2021), ('insu', 2025)])\n"
     ]
    }
   ],
   "source": [
    "#remove and update\n",
    "print(car.items())"
   ]
  },
  {
   "cell_type": "code",
   "execution_count": 40,
   "id": "7fa4fcf9-eac5-4c81-af8b-5535d5ed1466",
   "metadata": {},
   "outputs": [],
   "source": [
    "#update price\n",
    "car[\"price\"]= 15000\n",
    "car.update()"
   ]
  },
  {
   "cell_type": "code",
   "execution_count": 41,
   "id": "26bb296a-8a59-4783-8d29-6cba49368116",
   "metadata": {},
   "outputs": [
    {
     "name": "stdout",
     "output_type": "stream",
     "text": [
      "dict_items([('Brand', 'ford'), ('model', 'punch'), ('year', 2021), ('insu', 2025), ('price', 15000)])\n"
     ]
    }
   ],
   "source": [
    "print(car.items())"
   ]
  },
  {
   "cell_type": "code",
   "execution_count": 42,
   "id": "24cd4172-839f-4db7-a98c-1cc5cf5262e7",
   "metadata": {},
   "outputs": [
    {
     "name": "stdout",
     "output_type": "stream",
     "text": [
      "dict_values(['ford', 'punch', 2021, 2025, 15000])\n"
     ]
    }
   ],
   "source": [
    "print(car.values())"
   ]
  },
  {
   "cell_type": "code",
   "execution_count": 43,
   "id": "7178930c-863d-4927-a6fc-1152f7ca89b2",
   "metadata": {},
   "outputs": [],
   "source": [
    "del car[\"insu\"]"
   ]
  },
  {
   "cell_type": "code",
   "execution_count": 44,
   "id": "b9b3e25b-65c7-491d-8c17-a230973a2cf8",
   "metadata": {},
   "outputs": [
    {
     "name": "stdout",
     "output_type": "stream",
     "text": [
      "{'Brand': 'ford', 'model': 'punch', 'year': 2021, 'price': 15000}\n"
     ]
    }
   ],
   "source": [
    "print(car)"
   ]
  },
  {
   "cell_type": "code",
   "execution_count": 45,
   "id": "af96f95e-2327-4852-a06d-e96042b21b7e",
   "metadata": {},
   "outputs": [
    {
     "name": "stdout",
     "output_type": "stream",
     "text": [
      "{}\n"
     ]
    }
   ],
   "source": [
    "car2.clear()\n",
    "print(car2)"
   ]
  },
  {
   "cell_type": "code",
   "execution_count": 47,
   "id": "21e6a2a5-31f9-4458-9048-4a45df8ff00e",
   "metadata": {},
   "outputs": [
    {
     "name": "stdout",
     "output_type": "stream",
     "text": [
      "\n",
      "{'member1': {'name': 'sam', 'age': 21}, 'member2': {'name': 'shalini', 'age': 19}}\n"
     ]
    }
   ],
   "source": [
    "#nested dictionsries\n",
    "member1 = { \n",
    "    \"name\": \"sam\",\n",
    "     \"age\": 21\n",
    "    \n",
    "}\n",
    "member2 = {\n",
    "    \"name\": \"shalini\",\n",
    "    \"age\" : 19\n",
    "}\n",
    "brand = {\n",
    "    \"member1\": member1,\n",
    "    \"member2\": member2\n",
    "}\n",
    "print('')\n",
    "print(brand)\n"
   ]
  },
  {
   "cell_type": "code",
   "execution_count": 48,
   "id": "c86fde05-d1b9-4635-9c41-63a63ed0204d",
   "metadata": {},
   "outputs": [
    {
     "name": "stdout",
     "output_type": "stream",
     "text": [
      "{'name': 'sam', 'age': 21}\n"
     ]
    }
   ],
   "source": [
    "print(brand[\"member1\"])"
   ]
  },
  {
   "cell_type": "code",
   "execution_count": 49,
   "id": "4dac84db-62c9-4c55-ad11-42ff90c8a718",
   "metadata": {},
   "outputs": [
    {
     "name": "stdout",
     "output_type": "stream",
     "text": [
      "{'name': 'shalini', 'age': 19}\n"
     ]
    }
   ],
   "source": [
    "print(brand[\"member2\"])"
   ]
  },
  {
   "cell_type": "code",
   "execution_count": 50,
   "id": "52714231-01b8-4f67-a314-daac85f719bd",
   "metadata": {},
   "outputs": [
    {
     "name": "stdout",
     "output_type": "stream",
     "text": [
      "{'name': 'sam', 'age': 21} ['name']\n"
     ]
    }
   ],
   "source": [
    "print(brand[\"member1\"],[\"name\"])"
   ]
  },
  {
   "cell_type": "code",
   "execution_count": null,
   "id": "8415f2e1-f273-4a72-9c91-f5ebfaa01622",
   "metadata": {},
   "outputs": [],
   "source": []
  }
 ],
 "metadata": {
  "kernelspec": {
   "display_name": "Python 3 (ipykernel)",
   "language": "python",
   "name": "python3"
  },
  "language_info": {
   "codemirror_mode": {
    "name": "ipython",
    "version": 3
   },
   "file_extension": ".py",
   "mimetype": "text/x-python",
   "name": "python",
   "nbconvert_exporter": "python",
   "pygments_lexer": "ipython3",
   "version": "3.12.7"
  }
 },
 "nbformat": 4,
 "nbformat_minor": 5
}
