{
 "cells": [
  {
   "cell_type": "code",
   "execution_count": 5,
   "id": "6d61f108-2cc2-4c3d-aa50-f82455ae1fa1",
   "metadata": {},
   "outputs": [
    {
     "name": "stdout",
     "output_type": "stream",
     "text": [
      "{1, 3, 4, 6}\n",
      "(1, 2, 3, 4)\n",
      "<class 'set'>\n",
      "<class 'tuple'>\n",
      "4\n"
     ]
    }
   ],
   "source": [
    "#sets\n",
    "nums= {1,3,4,6}\n",
    "nums2 = ((1,2,3,4))\n",
    "print(nums)\n",
    "print(nums2)\n",
    "print(type(nums))\n",
    "print(type(nums2))\n",
    "print(len(nums))"
   ]
  },
  {
   "cell_type": "code",
   "execution_count": 6,
   "id": "2ddc2d5d-7b2d-4b79-b10e-5ee08d8b55b7",
   "metadata": {},
   "outputs": [
    {
     "name": "stdout",
     "output_type": "stream",
     "text": [
      "{1, 2, 3, 4, 8}\n"
     ]
    }
   ],
   "source": [
    "#set not allowed duplicates\n",
    "num = {1,2,2,3,4,3,3,8}\n",
    "print(num)"
   ]
  },
  {
   "cell_type": "code",
   "execution_count": 7,
   "id": "48c11200-eb9c-4084-9116-520b033ae229",
   "metadata": {},
   "outputs": [
    {
     "name": "stdout",
     "output_type": "stream",
     "text": [
      "[1, 2, 3, 4, 8]\n"
     ]
    }
   ],
   "source": [
    "print(sorted(num,reverse=False))"
   ]
  },
  {
   "cell_type": "code",
   "execution_count": 8,
   "id": "58500661-6dd8-4042-96ff-a68afa646455",
   "metadata": {},
   "outputs": [
    {
     "name": "stdout",
     "output_type": "stream",
     "text": [
      "[8, 4, 3, 2, 1]\n"
     ]
    }
   ],
   "source": [
    "print(sorted(num,reverse=True))"
   ]
  },
  {
   "cell_type": "code",
   "execution_count": 14,
   "id": "1e98fae9-ddd4-4d68-a8c0-15aba6e89102",
   "metadata": {},
   "outputs": [
    {
     "name": "stdout",
     "output_type": "stream",
     "text": [
      "[4, 3, 2, True, False]\n",
      "[False, True, 2, 3, 4]\n"
     ]
    }
   ],
   "source": [
    "#True is dupe of 1 ,False is dupe of 0\n",
    "num = {True,1,False,2, 3,4,0}\n",
    "print(sorted(num,reverse=True))\n",
    "print(sorted(num,reverse=False))"
   ]
  },
  {
   "cell_type": "code",
   "execution_count": 20,
   "id": "02e16ae2-9b5c-43cf-8dfa-f452389e778d",
   "metadata": {},
   "outputs": [
    {
     "name": "stdout",
     "output_type": "stream",
     "text": [
      "True\n"
     ]
    }
   ],
   "source": [
    "print(False & 0 in num)"
   ]
  },
  {
   "cell_type": "code",
   "execution_count": 29,
   "id": "639e487c-a856-404a-bb8c-975b1defee06",
   "metadata": {},
   "outputs": [
    {
     "name": "stdout",
     "output_type": "stream",
     "text": [
      "{1, 2, 3, 4, 5, 6}\n"
     ]
    }
   ],
   "source": [
    "#union\n",
    "one = {1,2,3}\n",
    "two = {4,5,6}\n",
    "my_new = one.union(two)\n",
    "print(my_new)"
   ]
  },
  {
   "cell_type": "code",
   "execution_count": 38,
   "id": "da846d9f-61ff-4513-bdbd-5436079eefd9",
   "metadata": {},
   "outputs": [
    {
     "name": "stdout",
     "output_type": "stream",
     "text": [
      "{2, 3}\n"
     ]
    }
   ],
   "source": [
    "#intersection\n",
    "one = {1,2,3}\n",
    "two = {3,2,6}\n",
    "one.intersection_update(two)\n",
    "print(one)"
   ]
  },
  {
   "cell_type": "code",
   "execution_count": null,
   "id": "fbf6b8b2-29db-4a0d-b453-08218becc657",
   "metadata": {},
   "outputs": [],
   "source": [
    "#symmetric \n",
    "one = {1,2,3}\n",
    "two = {3,2,6}\n",
    "one.symmetric_difference_update(two)\n"
   ]
  }
 ],
 "metadata": {
  "kernelspec": {
   "display_name": "Python 3 (ipykernel)",
   "language": "python",
   "name": "python3"
  },
  "language_info": {
   "codemirror_mode": {
    "name": "ipython",
    "version": 3
   },
   "file_extension": ".py",
   "mimetype": "text/x-python",
   "name": "python",
   "nbconvert_exporter": "python",
   "pygments_lexer": "ipython3",
   "version": "3.12.7"
  }
 },
 "nbformat": 4,
 "nbformat_minor": 5
}
